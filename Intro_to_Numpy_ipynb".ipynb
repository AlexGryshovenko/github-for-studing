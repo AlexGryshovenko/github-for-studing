{
  "cells": [
    {
      "cell_type": "markdown",
      "metadata": {
        "id": "view-in-github",
        "colab_type": "text"
      },
      "source": [
        "<a href=\"https://colab.research.google.com/github/AlexGryshovenko/github-for-studing/blob/main/Intro_to_Numpy_ipynb%22.ipynb\" target=\"_parent\"><img src=\"https://colab.research.google.com/assets/colab-badge.svg\" alt=\"Open In Colab\"/></a>"
      ]
    },
    {
      "cell_type": "markdown",
      "metadata": {
        "id": "GAof_aro3nvw"
      },
      "source": [
        "# Завдання\n",
        "## 1. Створити двомірний нульовий масив розміром 11х11 та заповнити його діагоналі одиницями.\n",
        "\n",
        "1.1. Задати розмір масиву"
      ]
    },
    {
      "cell_type": "code",
      "source": [
        "import numpy as np"
      ],
      "metadata": {
        "id": "YIsC3eI2DAZB"
      },
      "execution_count": null,
      "outputs": []
    },
    {
      "cell_type": "code",
      "execution_count": null,
      "metadata": {
        "id": "u_enMPVx3nvx"
      },
      "outputs": [],
      "source": [
        "size = 8"
      ]
    },
    {
      "cell_type": "markdown",
      "metadata": {
        "id": "yP23yydS3nvx"
      },
      "source": [
        "1.2. Створити нульовий масив заданого розміру"
      ]
    },
    {
      "cell_type": "code",
      "execution_count": null,
      "metadata": {
        "id": "fFbfyX2t3nvy"
      },
      "outputs": [],
      "source": [
        "arr = np.zeros([size, size])"
      ]
    },
    {
      "cell_type": "markdown",
      "metadata": {
        "id": "F8OgUcp_3nvy"
      },
      "source": [
        "1.3 Надрукувати створений масив"
      ]
    },
    {
      "cell_type": "code",
      "execution_count": null,
      "metadata": {
        "id": "1k4U1DUJ3nvz",
        "colab": {
          "base_uri": "https://localhost:8080/"
        },
        "outputId": "6869ad1e-f704-42fe-e4df-a94914c008dc"
      },
      "outputs": [
        {
          "output_type": "stream",
          "name": "stdout",
          "text": [
            "[[0. 0. 0. 0. 0. 0. 0. 0.]\n",
            " [0. 0. 0. 0. 0. 0. 0. 0.]\n",
            " [0. 0. 0. 0. 0. 0. 0. 0.]\n",
            " [0. 0. 0. 0. 0. 0. 0. 0.]\n",
            " [0. 0. 0. 0. 0. 0. 0. 0.]\n",
            " [0. 0. 0. 0. 0. 0. 0. 0.]\n",
            " [0. 0. 0. 0. 0. 0. 0. 0.]\n",
            " [0. 0. 0. 0. 0. 0. 0. 0.]]\n"
          ]
        }
      ],
      "source": [
        "print(arr)"
      ]
    },
    {
      "cell_type": "markdown",
      "metadata": {
        "id": "DaNU2Dv23nv0"
      },
      "source": [
        "1.4 Змінити діагоналі за допомогою двох циклів"
      ]
    },
    {
      "cell_type": "code",
      "execution_count": null,
      "metadata": {
        "id": "5Js3UUNs3nv0"
      },
      "outputs": [],
      "source": [
        "for i in range(size):\n",
        "\tfor j in range(size):\n",
        "\t\tif (i==j):\n",
        "\t\t\tarr[i][j] = 1\n",
        "\t\telif (j==size-i-1):\n",
        "\t\t\tarr[j][i] = 1"
      ]
    },
    {
      "cell_type": "markdown",
      "metadata": {
        "id": "XaR72zxe3nv1"
      },
      "source": [
        "1.5 Вивести створений масив"
      ]
    },
    {
      "cell_type": "code",
      "execution_count": null,
      "metadata": {
        "id": "4OmNu-HR3nv2",
        "colab": {
          "base_uri": "https://localhost:8080/"
        },
        "outputId": "fa0405e0-1c66-4cbc-ccd1-76638c352147"
      },
      "outputs": [
        {
          "output_type": "stream",
          "name": "stdout",
          "text": [
            "[[1. 0. 0. 0. 0. 0. 0. 1.]\n",
            " [0. 1. 0. 0. 0. 0. 1. 0.]\n",
            " [0. 0. 1. 0. 0. 1. 0. 0.]\n",
            " [0. 0. 0. 1. 1. 0. 0. 0.]\n",
            " [0. 0. 0. 1. 1. 0. 0. 0.]\n",
            " [0. 0. 1. 0. 0. 1. 0. 0.]\n",
            " [0. 1. 0. 0. 0. 0. 1. 0.]\n",
            " [1. 0. 0. 0. 0. 0. 0. 1.]]\n"
          ]
        }
      ],
      "source": [
        "print(arr)"
      ]
    },
    {
      "cell_type": "markdown",
      "metadata": {
        "id": "N3Y9hweQ3nv3"
      },
      "source": [
        "## 2. Засобами NumPy створити вертикальні та горизонтальні зображення градієнту в обидва боки (поступове збільшення яскравості на зображенні).\n",
        "\n",
        "Приклад зображення градієнту\n",
        "<img src=\"https://github.com/mosolab/DIP/blob/master/assignments/horizontal_grad.jpg?raw=1\" height=\"200\" width=\"200\">"
      ]
    },
    {
      "cell_type": "code",
      "source": [
        "import cv2\n",
        "import numpy as np"
      ],
      "metadata": {
        "id": "O56BZJAlDtc7"
      },
      "execution_count": null,
      "outputs": []
    },
    {
      "cell_type": "markdown",
      "metadata": {
        "id": "yX1cocZI3nv3"
      },
      "source": [
        "### Горизонтальний градієнт"
      ]
    },
    {
      "cell_type": "markdown",
      "metadata": {
        "id": "EFgsdvgG3nv4"
      },
      "source": [
        "2.1 Створити нульовий масив розміром 255х255"
      ]
    },
    {
      "cell_type": "code",
      "execution_count": null,
      "metadata": {
        "id": "OxiiB4F93nv4"
      },
      "outputs": [],
      "source": [
        "size = 255\n",
        "horizontal_gradient1 = np.zeros([size, size])"
      ]
    },
    {
      "cell_type": "markdown",
      "metadata": {
        "id": "LrS6us5U3nv5"
      },
      "source": [
        "2.2 Визначити розміри масиву"
      ]
    },
    {
      "cell_type": "code",
      "execution_count": null,
      "metadata": {
        "id": "yLqERRLg3nv6"
      },
      "outputs": [],
      "source": [
        "w = horizontal_gradient1.shape[1]\n",
        "h = horizontal_gradient1.shape[0]"
      ]
    },
    {
      "cell_type": "markdown",
      "metadata": {
        "id": "BsoutUrS3nv6"
      },
      "source": [
        "2.3 Поелементно змінити яскравості кожного пікселя"
      ]
    },
    {
      "cell_type": "code",
      "execution_count": null,
      "metadata": {
        "id": "wD5nJKxd3nv7"
      },
      "outputs": [],
      "source": [
        "for i in range(size):\n",
        "    for j in range(size):\n",
        "        horizontal_gradient1[j][i] = i"
      ]
    },
    {
      "cell_type": "markdown",
      "metadata": {
        "id": "mAIxAPWq3nv9"
      },
      "source": [
        "2.4 Записати зображення засабами OpenCV"
      ]
    },
    {
      "cell_type": "code",
      "execution_count": null,
      "metadata": {
        "id": "hjxzIcSl3nv-",
        "colab": {
          "base_uri": "https://localhost:8080/"
        },
        "outputId": "c00c83b7-2efe-4c07-f584-0f50f397980a"
      },
      "outputs": [
        {
          "output_type": "execute_result",
          "data": {
            "text/plain": [
              "True"
            ]
          },
          "metadata": {},
          "execution_count": 19
        }
      ],
      "source": [
        "cv2.imwrite('horizontal_grad1.jpg', horizontal_gradient1)"
      ]
    },
    {
      "cell_type": "markdown",
      "metadata": {
        "id": "tkenposE3nv_"
      },
      "source": [
        "2.5 Аналогічно створити горизонтальний градієнт в інший бік"
      ]
    },
    {
      "cell_type": "code",
      "execution_count": null,
      "metadata": {
        "id": "1a24jMGX3nv_",
        "colab": {
          "base_uri": "https://localhost:8080/"
        },
        "outputId": "e47a4d40-6b2a-4973-b63a-95c55abd5eef"
      },
      "outputs": [
        {
          "output_type": "execute_result",
          "data": {
            "text/plain": [
              "True"
            ]
          },
          "metadata": {},
          "execution_count": 20
        }
      ],
      "source": [
        "size = 255\n",
        "horizontal_gradient2 = np.zeros([size, size])\n",
        "\n",
        "w = horizontal_gradient2.shape[1]\n",
        "h = horizontal_gradient2.shape[0]\n",
        "for i in range(size):\n",
        "    for j in range(size):\n",
        "        horizontal_gradient2[size-1-j][size-1-i] = i\n",
        "        \n",
        "cv2.imwrite('horizontal_grad2.jpg', horizontal_gradient2)"
      ]
    },
    {
      "cell_type": "markdown",
      "metadata": {
        "id": "9DZDzwiy3nwA"
      },
      "source": [
        "### Вертикальний градієнт"
      ]
    },
    {
      "cell_type": "markdown",
      "metadata": {
        "id": "1XsGq_pQ3nwB"
      },
      "source": [
        "2.6 Створити нульовий масив розміром 255х255"
      ]
    },
    {
      "cell_type": "code",
      "execution_count": null,
      "metadata": {
        "id": "IQibEfYC3nwB"
      },
      "outputs": [],
      "source": [
        "vertical_gradient1 = np.zeros([size, size])"
      ]
    },
    {
      "cell_type": "markdown",
      "metadata": {
        "id": "PGloc8zp3nwC"
      },
      "source": [
        "2.7 Визначити розміри масиву"
      ]
    },
    {
      "cell_type": "code",
      "execution_count": null,
      "metadata": {
        "id": "g-_UgmML3nwD"
      },
      "outputs": [],
      "source": [
        "w = vertical_gradient1.shape[1]\n",
        "h = vertical_gradient1.shape[0]"
      ]
    },
    {
      "cell_type": "markdown",
      "metadata": {
        "id": "G6kgDH9G3nwE"
      },
      "source": [
        "2.8 Поелементно змінити яскравості кожного пікселя"
      ]
    },
    {
      "cell_type": "code",
      "execution_count": null,
      "metadata": {
        "id": "Uy55iUNu3nwE"
      },
      "outputs": [],
      "source": [
        "for i in range(h):\n",
        "    for j in range(w):\n",
        "        vertical_gradient1[i][j] = i"
      ]
    },
    {
      "cell_type": "markdown",
      "metadata": {
        "id": "_YEPxrhd3nwF"
      },
      "source": [
        "2.9 Записати зображення засабами OpenCV"
      ]
    },
    {
      "cell_type": "code",
      "execution_count": null,
      "metadata": {
        "id": "6iylQ80o3nwG",
        "colab": {
          "base_uri": "https://localhost:8080/"
        },
        "outputId": "c1e52e8d-6d58-4bb7-9416-e154242c2930"
      },
      "outputs": [
        {
          "output_type": "execute_result",
          "data": {
            "text/plain": [
              "True"
            ]
          },
          "metadata": {},
          "execution_count": 21
        }
      ],
      "source": [
        "cv2.imwrite('vertical_grad1.jpg', vertical_gradient1)"
      ]
    },
    {
      "cell_type": "markdown",
      "metadata": {
        "id": "gadKVwVr3nwH"
      },
      "source": [
        "2.10 Аналогічно створити горизонтальний градієнт в інший бік"
      ]
    },
    {
      "cell_type": "code",
      "execution_count": null,
      "metadata": {
        "id": "KaHSCK003nwI",
        "colab": {
          "base_uri": "https://localhost:8080/"
        },
        "outputId": "c2d150a9-6ac6-4f1e-941a-29ab6c20d31d"
      },
      "outputs": [
        {
          "output_type": "execute_result",
          "data": {
            "text/plain": [
              "True"
            ]
          },
          "metadata": {},
          "execution_count": 22
        }
      ],
      "source": [
        "vertical_gradient2 = np.zeros([size, size])\n",
        "\n",
        "w = vertical_gradient2.shape[1]\n",
        "h = vertical_gradient2.shape[0]\n",
        "\n",
        "for i in range(size):\n",
        "    for j in range(size):\n",
        "        vertical_gradient2[size-1-i][size-1-j] = i\n",
        "        \n",
        "cv2.imwrite('vertical_grad2.jpg', vertical_gradient2)\n"
      ]
    }
  ],
  "metadata": {
    "kernelspec": {
      "display_name": "Python 3",
      "language": "python",
      "name": "python3"
    },
    "language_info": {
      "codemirror_mode": {
        "name": "ipython",
        "version": 3
      },
      "file_extension": ".py",
      "mimetype": "text/x-python",
      "name": "python",
      "nbconvert_exporter": "python",
      "pygments_lexer": "ipython3",
      "version": "3.6.9"
    },
    "colab": {
      "name": "Intro_to_Numpy.ipynb\"",
      "provenance": [],
      "collapsed_sections": [
        "N3Y9hweQ3nv3",
        "yX1cocZI3nv3",
        "9DZDzwiy3nwA"
      ],
      "include_colab_link": true
    }
  },
  "nbformat": 4,
  "nbformat_minor": 0
}